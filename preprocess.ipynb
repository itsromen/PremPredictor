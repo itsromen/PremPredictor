{
  "cells": [
    {
      "cell_type": "markdown",
      "metadata": {},
      "source": [
        "# Premier League Data Preprocessing\n",
        "\n",
        "This notebook cleans and preprocesses the Premier League dataset for machine learning."
      ]
    },
    {
      "cell_type": "code",
      "execution_count": null,
      "metadata": {},
      "outputs": [],
      "source": [
        "import pandas as pd\n",
        "import os"
      ]
    },
    {
      "cell_type": "code",
      "execution_count": null,
      "metadata": {},
      "outputs": [],
      "source": [
        "def preprocess(infile='Premier_League.csv', outfile='premier_league_cleaned.csv'):\n",
        "    \"\"\"\n",
        "    Clean and preprocess Premier League dataset\n",
        "    \n",
        "    Parameters:\n",
        "    - infile: input CSV filename\n",
        "    - outfile: output CSV filename\n",
        "    \n",
        "    Returns:\n",
        "    - cleaned DataFrame\n",
        "    \"\"\"\n",
        "    # Load raw data\n",
        "    df = pd.read_csv(infile)\n",
        "    print(f\"Original dataset shape: {df.shape}\")\n",
        "\n",
        "    # Remove rows with any NA values in core columns\n",
        "    core_cols = ['Goals Home', 'Away Goals', 'attendance',\n",
        "                 'home_possessions', 'away_possessions', 'home_shots', 'away_shots']\n",
        "    \n",
        "    print(f\"Missing values before cleaning:\")\n",
        "    print(df[core_cols].isnull().sum())\n",
        "    \n",
        "    df = df.dropna(subset=core_cols)\n",
        "\n",
        "    # Clean attendance: remove commas and convert to int\n",
        "    df['attendance'] = df['attendance'].str.replace(',', '')\n",
        "    df['attendance'] = pd.to_numeric(df['attendance'], errors='coerce')\n",
        "\n",
        "    # Ensure numeric types for stats\n",
        "    numeric_cols = ['Goals Home', 'Away Goals', 'home_possessions', 'away_possessions', 'home_shots', 'away_shots']\n",
        "    for c in numeric_cols:\n",
        "        df[c] = pd.to_numeric(df[c], errors='coerce')\n",
        "\n",
        "    # Drop rows again if after coercion there are NaNs\n",
        "    df = df.dropna(subset=numeric_cols + ['attendance'])\n",
        "    \n",
        "    print(f\"Cleaned dataset shape: {df.shape}\")\n",
        "\n",
        "    # Save cleaned CSV\n",
        "    df.to_csv(outfile, index=False)\n",
        "    print(f\"Saved cleaned data to {outfile}\")\n",
        "    \n",
        "    return df"
      ]
    },
    {
      "cell_type": "code",
      "execution_count": null,
      "metadata": {},
      "outputs": [],
      "source": [
        "# Run the preprocessing\n",
        "clean_df = preprocess()"
      ]
    },
    {
      "cell_type": "code",
      "execution_count": null,
      "metadata": {},
      "outputs": [],
      "source": [
        "print(\"Preview of cleaned data:\")\n",
        "print(clean_df.head())\n",
        "print(f\"\\nDataset info:\")\n",
        "print(f\"Shape: {clean_df.shape}\")\n",
        "print(f\"Columns: {list(clean_df.columns)}\")"
      ]
    },
    {
      "cell_type": "code",
      "execution_count": null,
      "metadata": {},
      "outputs": [],
      "source": [
        "# Check data types and basic statistics\n",
        "print(\"Data types:\")\n",
        "print(clean_df.dtypes)\n",
        "\n",
        "print(\"\\nBasic statistics:\")\n",
        "print(clean_df.describe())"
      ]
    },
    {
      "cell_type": "code",
      "execution_count": null,
      "metadata": {},
      "outputs": [],
      "source": [
        "# Final verification - no missing values\n",
        "print(\"Missing values in cleaned dataset:\")\n",
        "print(clean_df.isnull().sum())\n",
        "\n",
        "print(f\"\\nAll attendance values are numeric: {clean_df['attendance'].dtype in ['int64', 'float64']}\")"
      ]
    }
  ],
  "metadata": {
    "kernelspec": {
      "display_name": "Python 3",
      "language": "python",
      "name": "python3"
    },
    "language_info": {
      "codemirror_mode": {
        "name": "ipython",
        "version": 3
      },
      "file_extension": ".py",
      "mimetype": "text/x-python",
      "name": "python",
      "nbconvert_exporter": "python",
      "pygments_lexer": "ipython3",
      "version": "3.8.0"
    }
  },
  "nbformat": 4,
  "nbformat_minor": 4
}